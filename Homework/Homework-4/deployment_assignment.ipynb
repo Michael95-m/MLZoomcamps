{
 "cells": [
  {
   "cell_type": "code",
   "execution_count": 1,
   "id": "2c51efaa",
   "metadata": {},
   "outputs": [
    {
     "name": "stdout",
     "output_type": "stream",
     "text": [
      "scikit-learn==1.2.2\r\n"
     ]
    }
   ],
   "source": [
    "!pip freeze | grep scikit-learn"
   ]
  },
  {
   "cell_type": "code",
   "execution_count": 15,
   "id": "0ef880a0",
   "metadata": {},
   "outputs": [],
   "source": [
    "import pickle\n",
    "import pandas as pd\n",
    "import os"
   ]
  },
  {
   "cell_type": "code",
   "execution_count": 3,
   "id": "7836ccfd",
   "metadata": {},
   "outputs": [],
   "source": [
    "with open('model.bin', 'rb') as f_in:\n",
    "    dv, model = pickle.load(f_in)"
   ]
  },
  {
   "cell_type": "code",
   "execution_count": 4,
   "id": "41c08294",
   "metadata": {},
   "outputs": [],
   "source": [
    "categorical = ['PULocationID', 'DOLocationID']\n",
    "\n",
    "def read_data(filename):\n",
    "    df = pd.read_parquet(filename)\n",
    "    \n",
    "    df['duration'] = df.tpep_dropoff_datetime - df.tpep_pickup_datetime\n",
    "    df['duration'] = df.duration.dt.total_seconds() / 60\n",
    "\n",
    "    df = df[(df.duration >= 1) & (df.duration <= 60)].copy()\n",
    "\n",
    "    df[categorical] = df[categorical].fillna(-1).astype('int').astype('str')\n",
    "    \n",
    "    return df"
   ]
  },
  {
   "cell_type": "markdown",
   "id": "86fcad83",
   "metadata": {},
   "source": [
    "## Q1"
   ]
  },
  {
   "cell_type": "markdown",
   "id": "c7fdeff6",
   "metadata": {},
   "source": [
    "Since it wants the data from **February 2022**, **year** will be **2022** and **month** will be **02**."
   ]
  },
  {
   "cell_type": "code",
   "execution_count": 5,
   "id": "2132327d",
   "metadata": {},
   "outputs": [],
   "source": [
    "df = read_data('https://d37ci6vzurychx.cloudfront.net/trip-data/yellow_tripdata_2022-02.parquet')"
   ]
  },
  {
   "cell_type": "code",
   "execution_count": 6,
   "id": "669fda0a",
   "metadata": {},
   "outputs": [],
   "source": [
    "dicts = df[categorical].to_dict(orient='records')\n",
    "X_val = dv.transform(dicts)\n",
    "y_pred = model.predict(X_val)"
   ]
  },
  {
   "cell_type": "code",
   "execution_count": 8,
   "id": "a50d1106",
   "metadata": {},
   "outputs": [],
   "source": [
    "pred_std = y_pred.std()"
   ]
  },
  {
   "cell_type": "code",
   "execution_count": 9,
   "id": "3d03853f",
   "metadata": {},
   "outputs": [
    {
     "name": "stdout",
     "output_type": "stream",
     "text": [
      "Standard deviation of the predicted duration is 5.28\n"
     ]
    }
   ],
   "source": [
    "print(f\"Standard deviation of the predicted duration is {pred_std:.2f}\")"
   ]
  },
  {
   "cell_type": "markdown",
   "id": "528c32d4",
   "metadata": {},
   "source": [
    "## Q2"
   ]
  },
  {
   "cell_type": "code",
   "execution_count": 10,
   "id": "4a4320de",
   "metadata": {},
   "outputs": [],
   "source": [
    "year = 2022\n",
    "month = 2\n",
    "taxi_type = \"yellow\""
   ]
  },
  {
   "cell_type": "code",
   "execution_count": 11,
   "id": "a9211467",
   "metadata": {},
   "outputs": [],
   "source": [
    "df['ride_id'] = f'{year:04d}/{month:02d}_' + df.index.astype('str')"
   ]
  },
  {
   "cell_type": "markdown",
   "id": "8b051100",
   "metadata": {},
   "source": [
    "Since it wants only **ride id** and the **predictions**, these two columns will be used for the creation of the new dataframe named **df_result**."
   ]
  },
  {
   "cell_type": "code",
   "execution_count": 12,
   "id": "a8970fcc",
   "metadata": {},
   "outputs": [],
   "source": [
    "df_result = pd.DataFrame({\"ride_id\": df['ride_id'].values, \"predictions\": y_pred})"
   ]
  },
  {
   "cell_type": "code",
   "execution_count": 13,
   "id": "f43854c6",
   "metadata": {},
   "outputs": [],
   "source": [
    "output_file = f\"output/output-{taxi_type}_tripdata_{year:04d}-{month:02d}.parquet\""
   ]
  },
  {
   "cell_type": "code",
   "execution_count": 14,
   "id": "2d9cfaca",
   "metadata": {},
   "outputs": [],
   "source": [
    "df_result.to_parquet(\n",
    "    output_file,\n",
    "    engine='pyarrow',\n",
    "    compression=None,\n",
    "    index=False\n",
    ")"
   ]
  },
  {
   "cell_type": "code",
   "execution_count": 22,
   "id": "16cdd2ba",
   "metadata": {},
   "outputs": [],
   "source": [
    "def get_filesize(file: str):\n",
    "    \n",
    "    file_stats = os.stat(file)\n",
    "    \n",
    "    return file_stats.st_size / (1024 * 1024)"
   ]
  },
  {
   "cell_type": "code",
   "execution_count": 23,
   "id": "363b252a",
   "metadata": {},
   "outputs": [
    {
     "name": "stdout",
     "output_type": "stream",
     "text": [
      "File Size in MegaBytes is 57.22\n"
     ]
    }
   ],
   "source": [
    "print(f'File Size in MegaBytes is {get_filesize(output_file):.2f}')"
   ]
  },
  {
   "cell_type": "markdown",
   "id": "1756ff0d",
   "metadata": {},
   "source": [
    "## Q3"
   ]
  },
  {
   "cell_type": "code",
   "execution_count": 24,
   "id": "f1b13b4a",
   "metadata": {},
   "outputs": [
    {
     "name": "stdout",
     "output_type": "stream",
     "text": [
      "[NbConvertApp] Converting notebook deployment_assignment.ipynb to script\n",
      "[NbConvertApp] Writing 2027 bytes to deployment_assignment.py\n"
     ]
    }
   ],
   "source": [
    "!jupyter nbconvert --to script deployment_assignment.ipynb"
   ]
  },
  {
   "cell_type": "markdown",
   "id": "b96bcf51",
   "metadata": {},
   "source": [
    "## Q4"
   ]
  },
  {
   "cell_type": "markdown",
   "id": "ccadc2f9",
   "metadata": {},
   "source": [
    "This is how **scikit-learn** with **specific version** can be installed by using **pipenv** in command line"
   ]
  },
  {
   "cell_type": "markdown",
   "id": "56b399a5",
   "metadata": {},
   "source": [
    "<img src=\"img/q4-a.png\">"
   ]
  },
  {
   "cell_type": "markdown",
   "id": "82851436",
   "metadata": {},
   "source": [
    "This is the hashes of **scikit-learn** inside **Pipfile.lock**"
   ]
  },
  {
   "cell_type": "markdown",
   "id": "55f8aeb5",
   "metadata": {},
   "source": [
    "<img src=\"img/q4-b.png\" width=600>"
   ]
  },
  {
   "cell_type": "markdown",
   "id": "43f9a808",
   "metadata": {},
   "source": [
    "The hash is **065e9673e24e0dc5113e2dd2b4ca30c9d8aa2fa90f4c0597241c93b63130d233**"
   ]
  },
  {
   "cell_type": "markdown",
   "id": "b7276886",
   "metadata": {},
   "source": [
    "## Q5"
   ]
  },
  {
   "cell_type": "code",
   "execution_count": 2,
   "id": "b514216c",
   "metadata": {},
   "outputs": [
    {
     "name": "stdout",
     "output_type": "stream",
     "text": [
      "Reading the data for 03-2022 (month/year)...\n",
      "Making dictionaries...\n",
      "Loading the model...\n",
      "Predicting the duration...\n",
      "The mean predicted duration for 03-2022 is 12.76\n"
     ]
    }
   ],
   "source": [
    "!python deployment_assignment.py 3 2022"
   ]
  },
  {
   "cell_type": "markdown",
   "id": "4cc7700c",
   "metadata": {},
   "source": [
    "So, The mean predicted duration for March 2022 is **12.76**"
   ]
  },
  {
   "cell_type": "markdown",
   "id": "5a01c225",
   "metadata": {},
   "source": [
    "## Q6"
   ]
  },
  {
   "cell_type": "markdown",
   "id": "c8d03918",
   "metadata": {},
   "source": [
    "I built the docker name **mlops-zoomcamp-hw4:v1** with [DockerFile](Dockerfile)"
   ]
  },
  {
   "cell_type": "code",
   "execution_count": 1,
   "id": "6f547944",
   "metadata": {},
   "outputs": [
    {
     "name": "stdout",
     "output_type": "stream",
     "text": [
      "Reading the data for 04-2022 (month/year)...\n",
      "Making dictionaries...\n",
      "Loading the model...\n",
      "Predicting the duration...\n",
      "The mean predicted duration for 04-2022 is 12.83\n"
     ]
    }
   ],
   "source": [
    "!docker run -it --rm --name april_duration_predict mlops-zoomcamp-hw4:v1 4 2022"
   ]
  },
  {
   "cell_type": "markdown",
   "id": "c0e24de3",
   "metadata": {},
   "source": [
    "So, The mean predicted duration for April 2022 is **12.83**"
   ]
  },
  {
   "cell_type": "markdown",
   "id": "2abcd68a",
   "metadata": {},
   "source": [
    "## Bonus"
   ]
  },
  {
   "cell_type": "markdown",
   "id": "93f240d0",
   "metadata": {},
   "source": [
    "After adding additional codes to save the output data in S3, this [script](./deployment_assignment.py) can also be used to push the output to s3\n",
    "\n",
    "- boto3 and s3fs needs to be installed to work with s3.\n",
    "- **aws cli** needs to be configured to save the aws credentials like **aws_access_key_id** and **aws_secret_access_key**"
   ]
  },
  {
   "cell_type": "markdown",
   "id": "4a56b903",
   "metadata": {},
   "source": [
    "The below is the running result"
   ]
  },
  {
   "cell_type": "markdown",
   "id": "88c71cdb",
   "metadata": {},
   "source": [
    "<img src=\"img/bonus-1.png\">"
   ]
  },
  {
   "cell_type": "markdown",
   "id": "c4e88abb",
   "metadata": {},
   "source": [
    "Output is saved in s3"
   ]
  },
  {
   "cell_type": "markdown",
   "id": "d76662c9",
   "metadata": {},
   "source": [
    "<img src=\"img/bonus-2.png\">"
   ]
  },
  {
   "cell_type": "markdown",
   "id": "a0fb88bb",
   "metadata": {},
   "source": [
    "## Publishing the image to dockerhub"
   ]
  },
  {
   "cell_type": "markdown",
   "id": "416a00ba",
   "metadata": {},
   "source": [
    "- The dockerfile image needed to be rebuilt to push output file to s3\n",
    "- To publish image to dockerhub, ```docker login``` must be run in cmd.\n",
    "- You can run more detail instruction in my [readme file](README.md)"
   ]
  },
  {
   "cell_type": "markdown",
   "id": "de827f8c",
   "metadata": {},
   "source": [
    "Pushing to dockerhub"
   ]
  },
  {
   "cell_type": "markdown",
   "id": "28ac6c9d",
   "metadata": {},
   "source": [
    "<img src=\"img/bonus-3.png\">"
   ]
  },
  {
   "cell_type": "markdown",
   "id": "336b8e8d",
   "metadata": {},
   "source": [
    "At the dockerhub,"
   ]
  },
  {
   "cell_type": "markdown",
   "id": "7eebb06c",
   "metadata": {},
   "source": [
    "<img src=\"img/bonus-4.png\">"
   ]
  },
  {
   "cell_type": "code",
   "execution_count": null,
   "id": "fb8f07b6",
   "metadata": {},
   "outputs": [],
   "source": []
  }
 ],
 "metadata": {
  "kernelspec": {
   "display_name": "mlops-venv",
   "language": "python",
   "name": "mlops-venv"
  },
  "language_info": {
   "codemirror_mode": {
    "name": "ipython",
    "version": 3
   },
   "file_extension": ".py",
   "mimetype": "text/x-python",
   "name": "python",
   "nbconvert_exporter": "python",
   "pygments_lexer": "ipython3",
   "version": "3.9.16"
  },
  "toc": {
   "base_numbering": 1,
   "nav_menu": {},
   "number_sections": true,
   "sideBar": true,
   "skip_h1_title": false,
   "title_cell": "Table of Contents",
   "title_sidebar": "Contents",
   "toc_cell": false,
   "toc_position": {},
   "toc_section_display": true,
   "toc_window_display": false
  }
 },
 "nbformat": 4,
 "nbformat_minor": 5
}
