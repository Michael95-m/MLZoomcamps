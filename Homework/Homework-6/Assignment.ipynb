{
 "cells": [
  {
   "cell_type": "markdown",
   "id": "962d8b94",
   "metadata": {},
   "source": [
    "# Q1"
   ]
  },
  {
   "cell_type": "markdown",
   "id": "2a6cd3c5",
   "metadata": {},
   "source": [
    "The main block will look like this `if __name__ == \"__main__\":`"
   ]
  },
  {
   "cell_type": "markdown",
   "id": "5ee99ae0",
   "metadata": {},
   "source": [
    "# Q2"
   ]
  },
  {
   "cell_type": "markdown",
   "id": "ee8a5ed3",
   "metadata": {},
   "source": [
    "`__init__.py` is for these purposes.\n",
    "\n",
    "1. To define a package and specify its boundaries\n",
    "2. To manage the import of modules from the package\n",
    "\n",
    "So, the answer must be **Both of the above**"
   ]
  },
  {
   "cell_type": "markdown",
   "id": "62482b10",
   "metadata": {},
   "source": [
    "# Q3"
   ]
  },
  {
   "cell_type": "markdown",
   "id": "fd15d81c",
   "metadata": {},
   "source": [
    "There will be only **3 rows** left. Other are discarded as the outlier."
   ]
  },
  {
   "cell_type": "markdown",
   "id": "39ad29c1",
   "metadata": {},
   "source": [
    "# Q4"
   ]
  },
  {
   "cell_type": "markdown",
   "id": "937ebfb8",
   "metadata": {},
   "source": [
    "The command to create s3 bucket with the localstack is \n",
    "\n",
    "```\n",
    "aws --endpoint-url=http://localhost:4566 s3 mb s3://nyc-duration\n",
    "```\n",
    "\n",
    "So, the answer is ```--endpoint-url```"
   ]
  },
  {
   "cell_type": "markdown",
   "id": "a40546a6",
   "metadata": {},
   "source": [
    "# Q5"
   ]
  },
  {
   "cell_type": "markdown",
   "id": "cff89764",
   "metadata": {},
   "source": [
    "<img src=\"img/size.png\">"
   ]
  },
  {
   "cell_type": "markdown",
   "id": "908779e1",
   "metadata": {},
   "source": [
    "The file that need to create by the quesiton 5 is **input.parquet** file. We can see this file has the size of **3.6KB**"
   ]
  },
  {
   "cell_type": "markdown",
   "id": "0c8007e6",
   "metadata": {},
   "source": [
    "# Q6"
   ]
  },
  {
   "cell_type": "markdown",
   "id": "32267259",
   "metadata": {},
   "source": [
    "<img src=\"img/predicted_sum_duration.png\">"
   ]
  },
  {
   "cell_type": "markdown",
   "id": "b8d8d24d",
   "metadata": {},
   "source": [
    "We can see the predicted sum duration is around **31.51**"
   ]
  },
  {
   "cell_type": "code",
   "execution_count": null,
   "id": "379f0c5a",
   "metadata": {},
   "outputs": [],
   "source": []
  }
 ],
 "metadata": {
  "kernelspec": {
   "display_name": "mlops-venv",
   "language": "python",
   "name": "mlops-venv"
  },
  "language_info": {
   "codemirror_mode": {
    "name": "ipython",
    "version": 3
   },
   "file_extension": ".py",
   "mimetype": "text/x-python",
   "name": "python",
   "nbconvert_exporter": "python",
   "pygments_lexer": "ipython3",
   "version": "3.9.16"
  },
  "toc": {
   "base_numbering": 1,
   "nav_menu": {},
   "number_sections": true,
   "sideBar": true,
   "skip_h1_title": false,
   "title_cell": "Table of Contents",
   "title_sidebar": "Contents",
   "toc_cell": false,
   "toc_position": {},
   "toc_section_display": true,
   "toc_window_display": false
  }
 },
 "nbformat": 4,
 "nbformat_minor": 5
}
