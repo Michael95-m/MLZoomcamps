{
 "cells": [
  {
   "cell_type": "markdown",
   "id": "e5641920",
   "metadata": {},
   "source": [
    "## Q1"
   ]
  },
  {
   "cell_type": "markdown",
   "id": "7ae5c0af",
   "metadata": {},
   "source": [
    "<img src=\"img/Q1.png\" width=700>"
   ]
  },
  {
   "cell_type": "markdown",
   "id": "9fecb693",
   "metadata": {},
   "source": [
    "**name** parameter is used to make nicely formatted description data. The link for this code is [here](https://github.com/Michael95-m/mlops-zoomcamp/blob/main/Homework/Homework-3/orchestrate.py#L16)"
   ]
  },
  {
   "cell_type": "markdown",
   "id": "727763b8",
   "metadata": {},
   "source": [
    "## Q2"
   ]
  },
  {
   "cell_type": "markdown",
   "id": "b1ddb2be",
   "metadata": {},
   "source": [
    "Crontab syntax is like below:\n",
    "\n",
    "- **minute (0-59)**\n",
    "- **hour (0-23)**\n",
    "- **day of the month (1 - 31)**\n",
    "- **month (1-12)**\n",
    "- **day of the week (0-6)** "
   ]
  },
  {
   "cell_type": "markdown",
   "id": "c5015935",
   "metadata": {},
   "source": [
    "<img src=\"img/Q2_a.png\" width=700>"
   ]
  },
  {
   "cell_type": "markdown",
   "id": "82c123e5",
   "metadata": {},
   "source": [
    "<img src=\"img/Q2_b.png\" width=700>"
   ]
  },
  {
   "cell_type": "markdown",
   "id": "59966394",
   "metadata": {},
   "source": [
    "To run on the third day of every month at 9am UTC, <b>0 9 3 * * </b> can be used to run the crontab. \n",
    "\n",
    "- The first and the second parameter is 0 9 because we want to run it in 9am.\n",
    "- The thrid parameter is 3 because we want to run the third day of every month.\n",
    "- Since we don't want to specify which month or which day of the week, we can use * * in fourth and fifth parameter."
   ]
  },
  {
   "cell_type": "markdown",
   "id": "fa7bdfd1",
   "metadata": {},
   "source": [
    "## Q3"
   ]
  },
  {
   "cell_type": "markdown",
   "id": "003ec501",
   "metadata": {},
   "source": [
    "To make Custom Run for the flow and enter the file path as a string on the JSON tab, we need to edit it in UI"
   ]
  },
  {
   "cell_type": "markdown",
   "id": "6f7e3426",
   "metadata": {},
   "source": [
    "<img src=\"img/Q3_a.png\" width=700>"
   ]
  },
  {
   "cell_type": "markdown",
   "id": "4a3df554",
   "metadata": {},
   "source": [
    "The final RMSE to five decimal places is **5.19931**"
   ]
  },
  {
   "cell_type": "markdown",
   "id": "9bc700d4",
   "metadata": {},
   "source": [
    "<img src=\"img/Q3_b.png\">"
   ]
  },
  {
   "cell_type": "markdown",
   "id": "ccbb8867",
   "metadata": {},
   "source": [
    "## Q4"
   ]
  },
  {
   "cell_type": "markdown",
   "id": "461892ad",
   "metadata": {},
   "source": [
    "<img src=\"img/Q4.png\">"
   ]
  },
  {
   "cell_type": "markdown",
   "id": "2a6cb068",
   "metadata": {},
   "source": [
    "The RMSE in the artifact to two decimal places is **5.37**"
   ]
  },
  {
   "cell_type": "markdown",
   "id": "7ce14891",
   "metadata": {},
   "source": [
    "## Q5"
   ]
  },
  {
   "cell_type": "markdown",
   "id": "d6e7c31c",
   "metadata": {},
   "source": [
    "To send an email block, **email-block** is needed to be created. [This script](https://github.com/Michael95-m/mlops-zoomcamp/blob/main/Homework/Homework-3/create_email_block.py) is used to create an email-block. **Email account** and **app password** which can be generated from google settings will be needed to create block."
   ]
  },
  {
   "cell_type": "markdown",
   "id": "48a91d19",
   "metadata": {},
   "source": [
    "<img src=\"img/Q5.png\">"
   ]
  },
  {
   "cell_type": "markdown",
   "id": "c66105a9",
   "metadata": {},
   "source": [
    "The script link for question 5 is [here](https://github.com/Michael95-m/mlops-zoomcamp/blob/main/Homework/Homework-3/orchestrate_email.py#L155)"
   ]
  },
  {
   "cell_type": "markdown",
   "id": "3f48c459",
   "metadata": {},
   "source": [
    "So, the answer is **email_send_message**."
   ]
  },
  {
   "cell_type": "markdown",
   "id": "f240e3ca",
   "metadata": {},
   "source": [
    "## Q6"
   ]
  },
  {
   "cell_type": "markdown",
   "id": "d99ed0fb",
   "metadata": {},
   "source": [
    " The name of the second step in the Automation creation process is **Actions**"
   ]
  },
  {
   "cell_type": "markdown",
   "id": "90bae661",
   "metadata": {},
   "source": [
    "<img src=\"img/Q6_a.png\">"
   ]
  },
  {
   "cell_type": "markdown",
   "id": "daa3d62c",
   "metadata": {},
   "source": [
    "The following image is the email sent by the automation process"
   ]
  },
  {
   "cell_type": "markdown",
   "id": "87e861da",
   "metadata": {},
   "source": [
    "<img src=\"img/Q6_b.png\">"
   ]
  },
  {
   "cell_type": "code",
   "execution_count": null,
   "id": "c5c7de79",
   "metadata": {},
   "outputs": [],
   "source": []
  }
 ],
 "metadata": {
  "kernelspec": {
   "display_name": "prefect_test",
   "language": "python",
   "name": "prefect_test"
  },
  "language_info": {
   "codemirror_mode": {
    "name": "ipython",
    "version": 3
   },
   "file_extension": ".py",
   "mimetype": "text/x-python",
   "name": "python",
   "nbconvert_exporter": "python",
   "pygments_lexer": "ipython3",
   "version": "3.9.12"
  },
  "toc": {
   "base_numbering": 1,
   "nav_menu": {},
   "number_sections": true,
   "sideBar": true,
   "skip_h1_title": false,
   "title_cell": "Table of Contents",
   "title_sidebar": "Contents",
   "toc_cell": false,
   "toc_position": {},
   "toc_section_display": true,
   "toc_window_display": false
  }
 },
 "nbformat": 4,
 "nbformat_minor": 5
}
